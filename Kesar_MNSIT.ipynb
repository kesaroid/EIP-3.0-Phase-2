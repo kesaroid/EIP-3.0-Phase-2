{
  "nbformat": 4,
  "nbformat_minor": 0,
  "metadata": {
    "colab": {
      "name": "Kesar_MNSIT.ipynb",
      "provenance": [],
      "collapsed_sections": [],
      "include_colab_link": true
    },
    "kernelspec": {
      "name": "python3",
      "display_name": "Python 3"
    },
    "accelerator": "GPU"
  },
  "cells": [
    {
      "cell_type": "markdown",
      "metadata": {
        "id": "view-in-github",
        "colab_type": "text"
      },
      "source": [
        "<a href=\"https://colab.research.google.com/github/kesaroid/EIP-3.0-Phase-2/blob/master/Kesar_MNSIT.ipynb\" target=\"_parent\"><img src=\"https://colab.research.google.com/assets/colab-badge.svg\" alt=\"Open In Colab\"/></a>"
      ]
    },
    {
      "cell_type": "markdown",
      "metadata": {
        "id": "aNyZv-Ec52ot",
        "colab_type": "text"
      },
      "source": [
        "# **Import Libraries and modules**"
      ]
    },
    {
      "cell_type": "code",
      "metadata": {
        "id": "Eso6UHE080D4",
        "colab_type": "code",
        "colab": {}
      },
      "source": [
        "import numpy as np\n",
        "import keras\n",
        "from keras.models import Sequential\n",
        "from keras.layers import Dense, Dropout, Activation, GlobalMaxPooling2D, Add, Flatten\n",
        "from keras.layers import Convolution2D, MaxPooling2D, SeparableConv2D, BatchNormalization\n",
        "from keras.utils import np_utils\n",
        "from keras.callbacks import LearningRateScheduler, ModelCheckpoint\n",
        "\n",
        "from keras.datasets import mnist\n",
        "from matplotlib import pyplot as plt\n",
        "%matplotlib inline"
      ],
      "execution_count": 0,
      "outputs": []
    },
    {
      "cell_type": "markdown",
      "metadata": {
        "id": "zByEi95J86RD",
        "colab_type": "text"
      },
      "source": [
        "### Load pre-shuffled MNIST data into train and test sets"
      ]
    },
    {
      "cell_type": "code",
      "metadata": {
        "id": "7eRM0QWN83PV",
        "colab_type": "code",
        "outputId": "46023498-ea10-4ca2-d699-9f2795456484",
        "colab": {
          "base_uri": "https://localhost:8080/",
          "height": 50
        }
      },
      "source": [
        "(X_train, y_train), (X_test, y_test) = mnist.load_data()"
      ],
      "execution_count": 0,
      "outputs": [
        {
          "output_type": "stream",
          "text": [
            "Downloading data from https://s3.amazonaws.com/img-datasets/mnist.npz\n",
            "11493376/11490434 [==============================] - 1s 0us/step\n"
          ],
          "name": "stdout"
        }
      ]
    },
    {
      "cell_type": "code",
      "metadata": {
        "id": "dkmprriw9AnZ",
        "colab_type": "code",
        "colab": {}
      },
      "source": [
        "X_train = X_train.reshape(X_train.shape[0], 28, 28,1)\n",
        "X_test = X_test.reshape(X_test.shape[0], 28, 28,1)"
      ],
      "execution_count": 0,
      "outputs": []
    },
    {
      "cell_type": "code",
      "metadata": {
        "id": "X2m4YS4E9CRh",
        "colab_type": "code",
        "colab": {}
      },
      "source": [
        "X_train = X_train.astype('float32')\n",
        "X_test = X_test.astype('float32')\n",
        "X_train /= 255\n",
        "X_test /= 255"
      ],
      "execution_count": 0,
      "outputs": []
    },
    {
      "cell_type": "code",
      "metadata": {
        "id": "ZG8JiXR39FHC",
        "colab_type": "code",
        "colab": {}
      },
      "source": [
        "# Convert 1-dimensional class arrays to 10-dimensional class matrices\n",
        "Y_train = np_utils.to_categorical(y_train, 10)\n",
        "Y_test = np_utils.to_categorical(y_test, 10)"
      ],
      "execution_count": 0,
      "outputs": []
    },
    {
      "cell_type": "code",
      "metadata": {
        "id": "osKqT73Q9JJB",
        "colab_type": "code",
        "outputId": "6d3e5790-3e89-447a-c185-4db87b7c5398",
        "colab": {
          "base_uri": "https://localhost:8080/",
          "height": 255
        }
      },
      "source": [
        "from keras.layers import Activation\n",
        "model = Sequential()\n",
        "\n",
        "model.add(Convolution2D(8, 3, 3, activation='relu', input_shape=(28,28,1)))\n",
        "model.add(BatchNormalization())\n",
        "model.add(Dropout(0.1))\n",
        "model.add(Convolution2D(10, 3, 3, activation='relu'))\n",
        "model.add(BatchNormalization())\n",
        "model.add(Dropout(0.1))\n",
        "model.add(Convolution2D(8, 1, 1, activation='relu'))\n",
        "model.add(MaxPooling2D(pool_size=(2, 2))) \n",
        "model.add(Convolution2D(10, 3, 3, activation='relu')) \n",
        "model.add(BatchNormalization())\n",
        "model.add(Dropout(0.1))\n",
        "model.add(Convolution2D(12, 3, 3, activation='relu')) \n",
        "model.add(BatchNormalization())\n",
        "model.add(Dropout(0.1))\n",
        "model.add(Convolution2D(10, 1, 1, activation='relu')) \n",
        "model.add(Convolution2D(12, 3, 3, activation='relu')) \n",
        "model.add(BatchNormalization())\n",
        "model.add(Dropout(0.1))\n",
        "model.add(Convolution2D(16, 3, 3, activation='relu')) \n",
        "model.add(BatchNormalization())\n",
        "model.add(Dropout(0.1))\n",
        "model.add(Convolution2D(10, 1, activation='relu'))\n",
        "model.add(Convolution2D(10, 4))\n",
        "model.add(Flatten())\n",
        "\n",
        "model.add(Activation('softmax'))"
      ],
      "execution_count": 0,
      "outputs": [
        {
          "output_type": "stream",
          "text": [
            "/usr/local/lib/python3.6/dist-packages/ipykernel_launcher.py:4: UserWarning: Update your `Conv2D` call to the Keras 2 API: `Conv2D(8, (3, 3), activation=\"relu\", input_shape=(28, 28, 1...)`\n",
            "  after removing the cwd from sys.path.\n",
            "/usr/local/lib/python3.6/dist-packages/ipykernel_launcher.py:7: UserWarning: Update your `Conv2D` call to the Keras 2 API: `Conv2D(10, (3, 3), activation=\"relu\")`\n",
            "  import sys\n",
            "/usr/local/lib/python3.6/dist-packages/ipykernel_launcher.py:10: UserWarning: Update your `Conv2D` call to the Keras 2 API: `Conv2D(8, (1, 1), activation=\"relu\")`\n",
            "  # Remove the CWD from sys.path while we load stuff.\n",
            "/usr/local/lib/python3.6/dist-packages/ipykernel_launcher.py:12: UserWarning: Update your `Conv2D` call to the Keras 2 API: `Conv2D(10, (3, 3), activation=\"relu\")`\n",
            "  if sys.path[0] == '':\n",
            "/usr/local/lib/python3.6/dist-packages/ipykernel_launcher.py:15: UserWarning: Update your `Conv2D` call to the Keras 2 API: `Conv2D(12, (3, 3), activation=\"relu\")`\n",
            "  from ipykernel import kernelapp as app\n",
            "/usr/local/lib/python3.6/dist-packages/ipykernel_launcher.py:18: UserWarning: Update your `Conv2D` call to the Keras 2 API: `Conv2D(10, (1, 1), activation=\"relu\")`\n",
            "/usr/local/lib/python3.6/dist-packages/ipykernel_launcher.py:19: UserWarning: Update your `Conv2D` call to the Keras 2 API: `Conv2D(12, (3, 3), activation=\"relu\")`\n",
            "/usr/local/lib/python3.6/dist-packages/ipykernel_launcher.py:22: UserWarning: Update your `Conv2D` call to the Keras 2 API: `Conv2D(16, (3, 3), activation=\"relu\")`\n"
          ],
          "name": "stderr"
        }
      ]
    },
    {
      "cell_type": "code",
      "metadata": {
        "id": "TzdAYg1k9K7Z",
        "colab_type": "code",
        "outputId": "9599ed70-d958-47b6-9876-b8951936cd0e",
        "colab": {
          "base_uri": "https://localhost:8080/",
          "height": 991
        }
      },
      "source": [
        "model.summary()"
      ],
      "execution_count": 0,
      "outputs": [
        {
          "output_type": "stream",
          "text": [
            "Model: \"sequential_7\"\n",
            "_________________________________________________________________\n",
            "Layer (type)                 Output Shape              Param #   \n",
            "=================================================================\n",
            "conv2d_21 (Conv2D)           (None, 26, 26, 8)         80        \n",
            "_________________________________________________________________\n",
            "batch_normalization_25 (Batc (None, 26, 26, 8)         32        \n",
            "_________________________________________________________________\n",
            "dropout_25 (Dropout)         (None, 26, 26, 8)         0         \n",
            "_________________________________________________________________\n",
            "conv2d_22 (Conv2D)           (None, 24, 24, 10)        730       \n",
            "_________________________________________________________________\n",
            "batch_normalization_26 (Batc (None, 24, 24, 10)        40        \n",
            "_________________________________________________________________\n",
            "dropout_26 (Dropout)         (None, 24, 24, 10)        0         \n",
            "_________________________________________________________________\n",
            "conv2d_23 (Conv2D)           (None, 24, 24, 8)         88        \n",
            "_________________________________________________________________\n",
            "max_pooling2d_7 (MaxPooling2 (None, 12, 12, 8)         0         \n",
            "_________________________________________________________________\n",
            "conv2d_24 (Conv2D)           (None, 10, 10, 10)        730       \n",
            "_________________________________________________________________\n",
            "batch_normalization_27 (Batc (None, 10, 10, 10)        40        \n",
            "_________________________________________________________________\n",
            "dropout_27 (Dropout)         (None, 10, 10, 10)        0         \n",
            "_________________________________________________________________\n",
            "conv2d_25 (Conv2D)           (None, 8, 8, 12)          1092      \n",
            "_________________________________________________________________\n",
            "batch_normalization_28 (Batc (None, 8, 8, 12)          48        \n",
            "_________________________________________________________________\n",
            "dropout_28 (Dropout)         (None, 8, 8, 12)          0         \n",
            "_________________________________________________________________\n",
            "conv2d_26 (Conv2D)           (None, 8, 8, 10)          130       \n",
            "_________________________________________________________________\n",
            "conv2d_27 (Conv2D)           (None, 6, 6, 12)          1092      \n",
            "_________________________________________________________________\n",
            "batch_normalization_29 (Batc (None, 6, 6, 12)          48        \n",
            "_________________________________________________________________\n",
            "dropout_29 (Dropout)         (None, 6, 6, 12)          0         \n",
            "_________________________________________________________________\n",
            "conv2d_28 (Conv2D)           (None, 4, 4, 16)          1744      \n",
            "_________________________________________________________________\n",
            "batch_normalization_30 (Batc (None, 4, 4, 16)          64        \n",
            "_________________________________________________________________\n",
            "dropout_30 (Dropout)         (None, 4, 4, 16)          0         \n",
            "_________________________________________________________________\n",
            "conv2d_29 (Conv2D)           (None, 4, 4, 10)          170       \n",
            "_________________________________________________________________\n",
            "conv2d_30 (Conv2D)           (None, 1, 1, 10)          1610      \n",
            "_________________________________________________________________\n",
            "flatten_2 (Flatten)          (None, 10)                0         \n",
            "_________________________________________________________________\n",
            "activation_6 (Activation)    (None, 10)                0         \n",
            "=================================================================\n",
            "Total params: 7,738\n",
            "Trainable params: 7,602\n",
            "Non-trainable params: 136\n",
            "_________________________________________________________________\n"
          ],
          "name": "stdout"
        }
      ]
    },
    {
      "cell_type": "code",
      "metadata": {
        "id": "dKPe7PcVIfDL",
        "colab_type": "code",
        "colab": {}
      },
      "source": [
        "def LRscheduler(epoch, lr):\n",
        "    scheduler = round(0.003 * 1/(1 + 0.315 * epoch), 10)\n",
        "    return scheduler\n",
        "\n",
        "checkpoint = ModelCheckpoint('mnist.h5', monitor='val_accuracy', verbose=0, save_best_only=True, save_weights_only=False, mode='auto', period=1)"
      ],
      "execution_count": 0,
      "outputs": []
    },
    {
      "cell_type": "code",
      "metadata": {
        "id": "Zp6SuGrL9M3h",
        "colab_type": "code",
        "colab": {}
      },
      "source": [
        "model.compile(loss='categorical_crossentropy',\n",
        "             optimizer='adam',\n",
        "             metrics=['accuracy'])"
      ],
      "execution_count": 0,
      "outputs": []
    },
    {
      "cell_type": "code",
      "metadata": {
        "id": "4xWoKhPY9Of5",
        "colab_type": "code",
        "outputId": "a5481002-6c18-43fc-b494-11edb5e5a701",
        "colab": {
          "base_uri": "https://localhost:8080/",
          "height": 1000
        }
      },
      "source": [
        "model.fit(X_train, Y_train, batch_size=128, nb_epoch=25, verbose=1, validation_data=(X_test, Y_test), callbacks=[checkpoint, LearningRateScheduler(LRscheduler, verbose=1)])"
      ],
      "execution_count": 0,
      "outputs": [
        {
          "output_type": "stream",
          "text": [
            "/usr/local/lib/python3.6/dist-packages/ipykernel_launcher.py:1: UserWarning: The `nb_epoch` argument in `fit` has been renamed `epochs`.\n",
            "  \"\"\"Entry point for launching an IPython kernel.\n"
          ],
          "name": "stderr"
        },
        {
          "output_type": "stream",
          "text": [
            "Train on 60000 samples, validate on 10000 samples\n",
            "Epoch 1/25\n",
            "\n",
            "Epoch 00001: LearningRateScheduler setting learning rate to 0.003.\n",
            "60000/60000 [==============================] - 8s 140us/step - loss: 0.0315 - accuracy: 0.9900 - val_loss: 0.0289 - val_accuracy: 0.9922\n",
            "Epoch 2/25\n",
            "\n",
            "Epoch 00002: LearningRateScheduler setting learning rate to 0.0022813688.\n",
            "60000/60000 [==============================] - 7s 117us/step - loss: 0.0266 - accuracy: 0.9913 - val_loss: 0.0502 - val_accuracy: 0.9841\n",
            "Epoch 3/25\n",
            "\n",
            "Epoch 00003: LearningRateScheduler setting learning rate to 0.0018404908.\n",
            "60000/60000 [==============================] - 7s 115us/step - loss: 0.0239 - accuracy: 0.9924 - val_loss: 0.0270 - val_accuracy: 0.9925\n",
            "Epoch 4/25\n",
            "\n",
            "Epoch 00004: LearningRateScheduler setting learning rate to 0.0015424165.\n",
            "60000/60000 [==============================] - 7s 119us/step - loss: 0.0229 - accuracy: 0.9923 - val_loss: 0.0309 - val_accuracy: 0.9916\n",
            "Epoch 5/25\n",
            "\n",
            "Epoch 00005: LearningRateScheduler setting learning rate to 0.0013274336.\n",
            "60000/60000 [==============================] - 7s 113us/step - loss: 0.0212 - accuracy: 0.9929 - val_loss: 0.0244 - val_accuracy: 0.9929\n",
            "Epoch 6/25\n",
            "\n",
            "Epoch 00006: LearningRateScheduler setting learning rate to 0.0011650485.\n",
            "60000/60000 [==============================] - 7s 118us/step - loss: 0.0201 - accuracy: 0.9930 - val_loss: 0.0267 - val_accuracy: 0.9929\n",
            "Epoch 7/25\n",
            "\n",
            "Epoch 00007: LearningRateScheduler setting learning rate to 0.0010380623.\n",
            "60000/60000 [==============================] - 7s 117us/step - loss: 0.0191 - accuracy: 0.9934 - val_loss: 0.0225 - val_accuracy: 0.9936\n",
            "Epoch 8/25\n",
            "\n",
            "Epoch 00008: LearningRateScheduler setting learning rate to 0.0009360374.\n",
            "60000/60000 [==============================] - 7s 115us/step - loss: 0.0191 - accuracy: 0.9938 - val_loss: 0.0232 - val_accuracy: 0.9922\n",
            "Epoch 9/25\n",
            "\n",
            "Epoch 00009: LearningRateScheduler setting learning rate to 0.0008522727.\n",
            "60000/60000 [==============================] - 7s 120us/step - loss: 0.0174 - accuracy: 0.9942 - val_loss: 0.0222 - val_accuracy: 0.9931\n",
            "Epoch 10/25\n",
            "\n",
            "Epoch 00010: LearningRateScheduler setting learning rate to 0.0007822686.\n",
            "60000/60000 [==============================] - 7s 118us/step - loss: 0.0169 - accuracy: 0.9941 - val_loss: 0.0239 - val_accuracy: 0.9925\n",
            "Epoch 11/25\n",
            "\n",
            "Epoch 00011: LearningRateScheduler setting learning rate to 0.0007228916.\n",
            "60000/60000 [==============================] - 7s 116us/step - loss: 0.0181 - accuracy: 0.9940 - val_loss: 0.0235 - val_accuracy: 0.9930\n",
            "Epoch 12/25\n",
            "\n",
            "Epoch 00012: LearningRateScheduler setting learning rate to 0.0006718925.\n",
            "60000/60000 [==============================] - 7s 116us/step - loss: 0.0165 - accuracy: 0.9946 - val_loss: 0.0226 - val_accuracy: 0.9934\n",
            "Epoch 13/25\n",
            "\n",
            "Epoch 00013: LearningRateScheduler setting learning rate to 0.0006276151.\n",
            "60000/60000 [==============================] - 7s 117us/step - loss: 0.0166 - accuracy: 0.9944 - val_loss: 0.0226 - val_accuracy: 0.9936\n",
            "Epoch 14/25\n",
            "\n",
            "Epoch 00014: LearningRateScheduler setting learning rate to 0.0005888126.\n",
            "60000/60000 [==============================] - 7s 115us/step - loss: 0.0170 - accuracy: 0.9942 - val_loss: 0.0236 - val_accuracy: 0.9934\n",
            "Epoch 15/25\n",
            "\n",
            "Epoch 00015: LearningRateScheduler setting learning rate to 0.0005545287.\n",
            "60000/60000 [==============================] - 7s 116us/step - loss: 0.0169 - accuracy: 0.9943 - val_loss: 0.0252 - val_accuracy: 0.9930\n",
            "Epoch 16/25\n",
            "\n",
            "Epoch 00016: LearningRateScheduler setting learning rate to 0.0005240175.\n",
            "60000/60000 [==============================] - 7s 115us/step - loss: 0.0169 - accuracy: 0.9944 - val_loss: 0.0220 - val_accuracy: 0.9934\n",
            "Epoch 17/25\n",
            "\n",
            "Epoch 00017: LearningRateScheduler setting learning rate to 0.0004966887.\n",
            "60000/60000 [==============================] - 7s 115us/step - loss: 0.0160 - accuracy: 0.9946 - val_loss: 0.0227 - val_accuracy: 0.9940\n",
            "Epoch 18/25\n",
            "\n",
            "Epoch 00018: LearningRateScheduler setting learning rate to 0.0004720692.\n",
            "60000/60000 [==============================] - 7s 114us/step - loss: 0.0165 - accuracy: 0.9944 - val_loss: 0.0230 - val_accuracy: 0.9940\n",
            "Epoch 19/25\n",
            "\n",
            "Epoch 00019: LearningRateScheduler setting learning rate to 0.0004497751.\n",
            "60000/60000 [==============================] - 7s 115us/step - loss: 0.0156 - accuracy: 0.9947 - val_loss: 0.0210 - val_accuracy: 0.9942\n",
            "Epoch 20/25\n",
            "\n",
            "Epoch 00020: LearningRateScheduler setting learning rate to 0.0004294918.\n",
            "60000/60000 [==============================] - 7s 115us/step - loss: 0.0150 - accuracy: 0.9949 - val_loss: 0.0216 - val_accuracy: 0.9942\n",
            "Epoch 21/25\n",
            "\n",
            "Epoch 00021: LearningRateScheduler setting learning rate to 0.0004109589.\n",
            "60000/60000 [==============================] - 7s 115us/step - loss: 0.0147 - accuracy: 0.9952 - val_loss: 0.0237 - val_accuracy: 0.9931\n",
            "Epoch 22/25\n",
            "\n",
            "Epoch 00022: LearningRateScheduler setting learning rate to 0.0003939593.\n",
            "60000/60000 [==============================] - 7s 116us/step - loss: 0.0153 - accuracy: 0.9948 - val_loss: 0.0214 - val_accuracy: 0.9938\n",
            "Epoch 23/25\n",
            "\n",
            "Epoch 00023: LearningRateScheduler setting learning rate to 0.0003783102.\n",
            "60000/60000 [==============================] - 7s 115us/step - loss: 0.0151 - accuracy: 0.9950 - val_loss: 0.0227 - val_accuracy: 0.9937\n",
            "Epoch 24/25\n",
            "\n",
            "Epoch 00024: LearningRateScheduler setting learning rate to 0.0003638569.\n",
            "60000/60000 [==============================] - 7s 114us/step - loss: 0.0151 - accuracy: 0.9950 - val_loss: 0.0232 - val_accuracy: 0.9937\n",
            "Epoch 25/25\n",
            "\n",
            "Epoch 00025: LearningRateScheduler setting learning rate to 0.0003504673.\n",
            "60000/60000 [==============================] - 7s 115us/step - loss: 0.0145 - accuracy: 0.9953 - val_loss: 0.0226 - val_accuracy: 0.9941\n"
          ],
          "name": "stdout"
        },
        {
          "output_type": "execute_result",
          "data": {
            "text/plain": [
              "<keras.callbacks.callbacks.History at 0x7f69f2496b00>"
            ]
          },
          "metadata": {
            "tags": []
          },
          "execution_count": 32
        }
      ]
    },
    {
      "cell_type": "code",
      "metadata": {
        "id": "AtsH-lLk-eLb",
        "colab_type": "code",
        "colab": {}
      },
      "source": [
        "score = model.evaluate(X_test, Y_test, verbose=0)"
      ],
      "execution_count": 0,
      "outputs": []
    },
    {
      "cell_type": "code",
      "metadata": {
        "id": "mkX8JMv79q9r",
        "colab_type": "code",
        "outputId": "503708f5-2655-465d-d902-ee21131c5bd8",
        "colab": {
          "base_uri": "https://localhost:8080/",
          "height": 34
        }
      },
      "source": [
        "print(score[1]*100)"
      ],
      "execution_count": 0,
      "outputs": [
        {
          "output_type": "stream",
          "text": [
            "99.40999746322632\n"
          ],
          "name": "stdout"
        }
      ]
    }
  ]
}